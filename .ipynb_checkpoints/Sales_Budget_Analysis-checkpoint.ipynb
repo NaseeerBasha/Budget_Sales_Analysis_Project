{
 "cells": [
  {
   "cell_type": "code",
   "execution_count": 2,
   "id": "a3ab7b4e",
   "metadata": {},
   "outputs": [],
   "source": [
    "#importing some common libraries like NumPy, pandas, matplotlib, seaborn, nltk and many more.To remove this headache of importing such libraries manually, we have pyforest library\n",
    "# pip install pyforest\n",
    "import pyforest\n",
    "import logging\n",
    "# Suppressing Warnings\n",
    "import warnings\n",
    "warnings.filterwarnings('ignore')\n"
   ]
  },
  {
   "cell_type": "code",
   "execution_count": 28,
   "id": "6a26f444",
   "metadata": {},
   "outputs": [],
   "source": [
    "logging.basicConfig(filename='Jupyter_Notebook_logs.log', \n",
    "                    level=logging.INFO,\n",
    "                    format='%(levelname)s:%(asctime)s:%(message)s')\n"
   ]
  },
  {
   "cell_type": "markdown",
   "id": "8aaa1be8",
   "metadata": {},
   "source": [
    "## Data Gathering\n"
   ]
  },
  {
   "cell_type": "code",
   "execution_count": 30,
   "id": "478c9c2f",
   "metadata": {},
   "outputs": [],
   "source": [
    "logging.info(' Dataset gathering ')\n"
   ]
  },
  {
   "cell_type": "code",
   "execution_count": 26,
   "id": "be563d31",
   "metadata": {},
   "outputs": [
    {
     "data": {
      "application/javascript": [
       "\n",
       "        if (window._pyforest_update_imports_cell) { window._pyforest_update_imports_cell('import pandas as pd'); }\n",
       "    "
      ],
      "text/plain": [
       "<IPython.core.display.Javascript object>"
      ]
     },
     "metadata": {},
     "output_type": "display_data"
    }
   ],
   "source": [
    "Customers_data = pd.read_excel('https://github.com/NaseeerBasha//Data-Analysis-Project-Ineuron/files/8985052/Database.xlsx',\n",
    "                              'Customers',\n",
    "                              dtype={'CustomerKey':str},\n",
    "                              parse_dates=['BirthDate','DateFirstPurchase']\n",
    "                              )\n"
   ]
  },
  {
   "cell_type": "code",
   "execution_count": 24,
   "id": "50eeb54a",
   "metadata": {},
   "outputs": [
    {
     "data": {
      "application/javascript": [
       "\n",
       "        if (window._pyforest_update_imports_cell) { window._pyforest_update_imports_cell('import pandas as pd'); }\n",
       "    "
      ],
      "text/plain": [
       "<IPython.core.display.Javascript object>"
      ]
     },
     "metadata": {},
     "output_type": "display_data"
    }
   ],
   "source": [
    "Product_data = pd.read_excel('https://github.com/NaseeerBasha//Data-Analysis-Project-Ineuron/files/8985052/Database.xlsx',\n",
    "                              'Product',\n",
    "                              dtype={'ProductKey':str},\n",
    "                              parse_dates=['StartDate']\n",
    "                              )\n"
   ]
  },
  {
   "cell_type": "code",
   "execution_count": 27,
   "id": "3d284525",
   "metadata": {},
   "outputs": [
    {
     "data": {
      "application/javascript": [
       "\n",
       "        if (window._pyforest_update_imports_cell) { window._pyforest_update_imports_cell('import pandas as pd'); }\n",
       "    "
      ],
      "text/plain": [
       "<IPython.core.display.Javascript object>"
      ]
     },
     "metadata": {},
     "output_type": "display_data"
    }
   ],
   "source": [
    "Sales_data = pd.read_excel('https://github.com/NaseeerBasha//Data-Analysis-Project-Ineuron/files/8985052/Database.xlsx',\n",
    "                              'Sales',\n",
    "                              dtype={'ProductKey':str,\n",
    "                                     'CustomerKey':str,\n",
    "                                     'PromotionKey':str,\n",
    "                                     'SalesTerritoryKey':str},\n",
    "                              parse_dates=['OrderDate', 'ShipDate']\n",
    "                              )\n",
    "Sales_data['DateKey'] = Sales_data['OrderDate'].astype(str)\n"
   ]
  },
  {
   "cell_type": "code",
   "execution_count": 32,
   "id": "e5612c07",
   "metadata": {},
   "outputs": [
    {
     "data": {
      "application/javascript": [
       "\n",
       "        if (window._pyforest_update_imports_cell) { window._pyforest_update_imports_cell('import pandas as pd'); }\n",
       "    "
      ],
      "text/plain": [
       "<IPython.core.display.Javascript object>"
      ]
     },
     "metadata": {},
     "output_type": "display_data"
    }
   ],
   "source": [
    "Territory_data = pd.read_excel('https://github.com/NaseeerBasha/Data-Analysis-Project-Ineuron/files/8985052/Database.xlsx',\n",
    "                              'Territory',\n",
    "                              dtype={'SalesTerritoryKey':str}\n",
    "                              )\n"
   ]
  },
  {
   "cell_type": "code",
   "execution_count": 33,
   "id": "49d79ae3",
   "metadata": {},
   "outputs": [],
   "source": [
    "logging.info('Data gathering is done')\n"
   ]
  },
  {
   "cell_type": "markdown",
   "id": "a46dec82",
   "metadata": {},
   "source": [
    "## Merging data"
   ]
  },
  {
   "cell_type": "code",
   "execution_count": 38,
   "id": "0ed8bd7b",
   "metadata": {},
   "outputs": [],
   "source": [
    "logging.info('Merging the data')"
   ]
  },
  {
   "cell_type": "code",
   "execution_count": 34,
   "id": "6e541310",
   "metadata": {},
   "outputs": [
    {
     "data": {
      "application/javascript": [
       "\n",
       "        if (window._pyforest_update_imports_cell) { window._pyforest_update_imports_cell('import pandas as pd'); }\n",
       "    "
      ],
      "text/plain": [
       "<IPython.core.display.Javascript object>"
      ]
     },
     "metadata": {},
     "output_type": "display_data"
    },
    {
     "data": {
      "application/javascript": [
       "\n",
       "        if (window._pyforest_update_imports_cell) { window._pyforest_update_imports_cell('import pandas as pd'); }\n",
       "    "
      ],
      "text/plain": [
       "<IPython.core.display.Javascript object>"
      ]
     },
     "metadata": {},
     "output_type": "display_data"
    },
    {
     "data": {
      "application/javascript": [
       "\n",
       "        if (window._pyforest_update_imports_cell) { window._pyforest_update_imports_cell('import pandas as pd'); }\n",
       "    "
      ],
      "text/plain": [
       "<IPython.core.display.Javascript object>"
      ]
     },
     "metadata": {},
     "output_type": "display_data"
    }
   ],
   "source": [
    "temp_data = pd.merge(Sales_data, Product_data, on='ProductKey', how='inner')\n",
    "df = pd.merge(temp_data, Customers_data, on='CustomerKey', how='inner')\n",
    "df = pd.merge(df, Territory_data, on='SalesTerritoryKey', how='inner')\n"
   ]
  },
  {
   "cell_type": "code",
   "execution_count": 41,
   "id": "3dfc3737",
   "metadata": {},
   "outputs": [
    {
     "name": "stdout",
     "output_type": "stream",
     "text": [
      "Dataset:\n",
      "        ProductKey  OrderDate   ShipDate CustomerKey PromotionKey  \\\n",
      "0            310 2014-01-01 2014-01-08       21768            1   \n",
      "1            600 2016-04-16 2016-04-23       21768            1   \n",
      "2            310 2014-01-30 2014-02-06       21727            1   \n",
      "3            479 2016-11-29 2016-12-05       21727            1   \n",
      "4            477 2016-11-29 2016-12-05       21727            1   \n",
      "...          ...        ...        ...         ...          ...   \n",
      "58184        528 2016-11-07 2016-11-14       13145            1   \n",
      "58185        361 2016-11-07 2016-11-14       13145            1   \n",
      "58186        480 2016-11-07 2016-11-14       13145            1   \n",
      "58187        530 2016-02-06 2016-02-13       27040            1   \n",
      "58188        480 2016-02-06 2016-02-13       27040            2   \n",
      "\n",
      "      SalesTerritoryKey SalesOrderNumber  SalesOrderLineNumber  OrderQuantity  \\\n",
      "0                     6          SO43697                     1              2   \n",
      "1                     6          SO56212                     1              1   \n",
      "2                     6          SO43833                     1              4   \n",
      "3                     6          SO71614                     2              1   \n",
      "4                     6          SO71614                     3              1   \n",
      "...                 ...              ...                   ...            ...   \n",
      "58184                 2          SO70064                     2              1   \n",
      "58185                 2          SO70064                     1              1   \n",
      "58186                 2          SO70064                     4              1   \n",
      "58187                 2          SO52124                     1              1   \n",
      "58188                 2          SO52124                     2              1   \n",
      "\n",
      "       UnitPrice  ...      Occupation  HouseOwnerFlag  NumberCarsOwned  \\\n",
      "0      1789.1350  ...      Management               1                3   \n",
      "1       539.9900  ...      Management               1                3   \n",
      "2       894.5675  ...  Skilled Manual               1                0   \n",
      "3         8.9900  ...  Skilled Manual               1                0   \n",
      "4         4.9900  ...  Skilled Manual               1                0   \n",
      "...          ...  ...             ...             ...              ...   \n",
      "58184     4.9900  ...  Skilled Manual               1                2   \n",
      "58185  2294.9900  ...  Skilled Manual               1                2   \n",
      "58186     2.2900  ...  Skilled Manual               1                2   \n",
      "58187     4.9900  ...        Clerical               1                2   \n",
      "58188     2.2900  ...        Clerical               1                2   \n",
      "\n",
      "             AddressLine1 DateFirstPurchase CommuteDistance     Region  \\\n",
      "0        601 Asilomar Dr.        2014-01-01       10+ Miles     Canada   \n",
      "1        601 Asilomar Dr.        2014-01-01       10+ Miles     Canada   \n",
      "2           4082 Shell Ct        2014-01-30       1-2 Miles     Canada   \n",
      "3           4082 Shell Ct        2014-01-30       1-2 Miles     Canada   \n",
      "4           4082 Shell Ct        2014-01-30       1-2 Miles     Canada   \n",
      "...                   ...               ...             ...        ...   \n",
      "58184    7779 Merry Drive        2016-11-07      5-10 Miles  Northeast   \n",
      "58185    7779 Merry Drive        2016-11-07      5-10 Miles  Northeast   \n",
      "58186    7779 Merry Drive        2016-11-07      5-10 Miles  Northeast   \n",
      "58187  371 Westwood Court        2016-02-06       1-2 Miles  Northeast   \n",
      "58188  371 Westwood Court        2016-02-06       1-2 Miles  Northeast   \n",
      "\n",
      "             Country          Group  \\\n",
      "0             Canada  North America   \n",
      "1             Canada  North America   \n",
      "2             Canada  North America   \n",
      "3             Canada  North America   \n",
      "4             Canada  North America   \n",
      "...              ...            ...   \n",
      "58184  United States  North America   \n",
      "58185  United States  North America   \n",
      "58186  United States  North America   \n",
      "58187  United States  North America   \n",
      "58188  United States  North America   \n",
      "\n",
      "                                             RegionImage  \n",
      "0      http://www.avising.com/me/LearnPBI/DataSources...  \n",
      "1      http://www.avising.com/me/LearnPBI/DataSources...  \n",
      "2      http://www.avising.com/me/LearnPBI/DataSources...  \n",
      "3      http://www.avising.com/me/LearnPBI/DataSources...  \n",
      "4      http://www.avising.com/me/LearnPBI/DataSources...  \n",
      "...                                                  ...  \n",
      "58184  http://www.avising.com/me/LearnPBI/DataSources...  \n",
      "58185  http://www.avising.com/me/LearnPBI/DataSources...  \n",
      "58186  http://www.avising.com/me/LearnPBI/DataSources...  \n",
      "58187  http://www.avising.com/me/LearnPBI/DataSources...  \n",
      "58188  http://www.avising.com/me/LearnPBI/DataSources...  \n",
      "\n",
      "[58189 rows x 46 columns]\n"
     ]
    }
   ],
   "source": [
    "print (f\"Dataset:\\n \",df)"
   ]
  },
  {
   "cell_type": "code",
   "execution_count": 42,
   "id": "f2982e7d",
   "metadata": {},
   "outputs": [],
   "source": [
    "logging.info('Merging the data is done')"
   ]
  },
  {
   "cell_type": "code",
   "execution_count": 46,
   "id": "3ca4a623",
   "metadata": {},
   "outputs": [
    {
     "ename": "ModuleNotFoundError",
     "evalue": "No module named 'xlwt'",
     "output_type": "error",
     "traceback": [
      "\u001b[1;31m---------------------------------------------------------------------------\u001b[0m",
      "\u001b[1;31mModuleNotFoundError\u001b[0m                       Traceback (most recent call last)",
      "Input \u001b[1;32mIn [46]\u001b[0m, in \u001b[0;36m<cell line: 1>\u001b[1;34m()\u001b[0m\n\u001b[1;32m----> 1\u001b[0m \u001b[43mdf\u001b[49m\u001b[38;5;241;43m.\u001b[39;49m\u001b[43mto_excel\u001b[49m\u001b[43m(\u001b[49m\u001b[38;5;124;43m'\u001b[39;49m\u001b[38;5;124;43mbud.xls\u001b[39;49m\u001b[38;5;124;43m'\u001b[39;49m\u001b[43m,\u001b[49m\u001b[43mencoding\u001b[49m\u001b[38;5;241;43m=\u001b[39;49m\u001b[38;5;124;43m'\u001b[39;49m\u001b[38;5;124;43mutf-8\u001b[39;49m\u001b[38;5;124;43m'\u001b[39;49m\u001b[43m \u001b[49m\u001b[43m,\u001b[49m\u001b[43mindex\u001b[49m\u001b[38;5;241;43m=\u001b[39;49m\u001b[38;5;28;43;01mFalse\u001b[39;49;00m\u001b[43m)\u001b[49m\n",
      "File \u001b[1;32m~\\anaconda3\\lib\\site-packages\\pandas\\core\\generic.py:2345\u001b[0m, in \u001b[0;36mNDFrame.to_excel\u001b[1;34m(self, excel_writer, sheet_name, na_rep, float_format, columns, header, index, index_label, startrow, startcol, engine, merge_cells, encoding, inf_rep, verbose, freeze_panes, storage_options)\u001b[0m\n\u001b[0;32m   2332\u001b[0m \u001b[38;5;28;01mfrom\u001b[39;00m \u001b[38;5;21;01mpandas\u001b[39;00m\u001b[38;5;21;01m.\u001b[39;00m\u001b[38;5;21;01mio\u001b[39;00m\u001b[38;5;21;01m.\u001b[39;00m\u001b[38;5;21;01mformats\u001b[39;00m\u001b[38;5;21;01m.\u001b[39;00m\u001b[38;5;21;01mexcel\u001b[39;00m \u001b[38;5;28;01mimport\u001b[39;00m ExcelFormatter\n\u001b[0;32m   2334\u001b[0m formatter \u001b[38;5;241m=\u001b[39m ExcelFormatter(\n\u001b[0;32m   2335\u001b[0m     df,\n\u001b[0;32m   2336\u001b[0m     na_rep\u001b[38;5;241m=\u001b[39mna_rep,\n\u001b[1;32m   (...)\u001b[0m\n\u001b[0;32m   2343\u001b[0m     inf_rep\u001b[38;5;241m=\u001b[39minf_rep,\n\u001b[0;32m   2344\u001b[0m )\n\u001b[1;32m-> 2345\u001b[0m \u001b[43mformatter\u001b[49m\u001b[38;5;241;43m.\u001b[39;49m\u001b[43mwrite\u001b[49m\u001b[43m(\u001b[49m\n\u001b[0;32m   2346\u001b[0m \u001b[43m    \u001b[49m\u001b[43mexcel_writer\u001b[49m\u001b[43m,\u001b[49m\n\u001b[0;32m   2347\u001b[0m \u001b[43m    \u001b[49m\u001b[43msheet_name\u001b[49m\u001b[38;5;241;43m=\u001b[39;49m\u001b[43msheet_name\u001b[49m\u001b[43m,\u001b[49m\n\u001b[0;32m   2348\u001b[0m \u001b[43m    \u001b[49m\u001b[43mstartrow\u001b[49m\u001b[38;5;241;43m=\u001b[39;49m\u001b[43mstartrow\u001b[49m\u001b[43m,\u001b[49m\n\u001b[0;32m   2349\u001b[0m \u001b[43m    \u001b[49m\u001b[43mstartcol\u001b[49m\u001b[38;5;241;43m=\u001b[39;49m\u001b[43mstartcol\u001b[49m\u001b[43m,\u001b[49m\n\u001b[0;32m   2350\u001b[0m \u001b[43m    \u001b[49m\u001b[43mfreeze_panes\u001b[49m\u001b[38;5;241;43m=\u001b[39;49m\u001b[43mfreeze_panes\u001b[49m\u001b[43m,\u001b[49m\n\u001b[0;32m   2351\u001b[0m \u001b[43m    \u001b[49m\u001b[43mengine\u001b[49m\u001b[38;5;241;43m=\u001b[39;49m\u001b[43mengine\u001b[49m\u001b[43m,\u001b[49m\n\u001b[0;32m   2352\u001b[0m \u001b[43m    \u001b[49m\u001b[43mstorage_options\u001b[49m\u001b[38;5;241;43m=\u001b[39;49m\u001b[43mstorage_options\u001b[49m\u001b[43m,\u001b[49m\n\u001b[0;32m   2353\u001b[0m \u001b[43m\u001b[49m\u001b[43m)\u001b[49m\n",
      "File \u001b[1;32m~\\anaconda3\\lib\\site-packages\\pandas\\io\\formats\\excel.py:888\u001b[0m, in \u001b[0;36mExcelFormatter.write\u001b[1;34m(self, writer, sheet_name, startrow, startcol, freeze_panes, engine, storage_options)\u001b[0m\n\u001b[0;32m    884\u001b[0m     need_save \u001b[38;5;241m=\u001b[39m \u001b[38;5;28;01mFalse\u001b[39;00m\n\u001b[0;32m    885\u001b[0m \u001b[38;5;28;01melse\u001b[39;00m:\n\u001b[0;32m    886\u001b[0m     \u001b[38;5;66;03m# error: Cannot instantiate abstract class 'ExcelWriter' with abstract\u001b[39;00m\n\u001b[0;32m    887\u001b[0m     \u001b[38;5;66;03m# attributes 'engine', 'save', 'supported_extensions' and 'write_cells'\u001b[39;00m\n\u001b[1;32m--> 888\u001b[0m     writer \u001b[38;5;241m=\u001b[39m \u001b[43mExcelWriter\u001b[49m\u001b[43m(\u001b[49m\u001b[43m  \u001b[49m\u001b[38;5;66;43;03m# type: ignore[abstract]\u001b[39;49;00m\n\u001b[0;32m    889\u001b[0m \u001b[43m        \u001b[49m\u001b[43mwriter\u001b[49m\u001b[43m,\u001b[49m\u001b[43m \u001b[49m\u001b[43mengine\u001b[49m\u001b[38;5;241;43m=\u001b[39;49m\u001b[43mengine\u001b[49m\u001b[43m,\u001b[49m\u001b[43m \u001b[49m\u001b[43mstorage_options\u001b[49m\u001b[38;5;241;43m=\u001b[39;49m\u001b[43mstorage_options\u001b[49m\n\u001b[0;32m    890\u001b[0m \u001b[43m    \u001b[49m\u001b[43m)\u001b[49m\n\u001b[0;32m    891\u001b[0m     need_save \u001b[38;5;241m=\u001b[39m \u001b[38;5;28;01mTrue\u001b[39;00m\n\u001b[0;32m    893\u001b[0m \u001b[38;5;28;01mtry\u001b[39;00m:\n",
      "File \u001b[1;32m~\\anaconda3\\lib\\site-packages\\pandas\\io\\excel\\_xlwt.py:39\u001b[0m, in \u001b[0;36mXlwtWriter.__init__\u001b[1;34m(self, path, engine, date_format, datetime_format, encoding, mode, storage_options, if_sheet_exists, engine_kwargs, **kwargs)\u001b[0m\n\u001b[0;32m     25\u001b[0m \u001b[38;5;28;01mdef\u001b[39;00m \u001b[38;5;21m__init__\u001b[39m(\n\u001b[0;32m     26\u001b[0m     \u001b[38;5;28mself\u001b[39m,\n\u001b[0;32m     27\u001b[0m     path,\n\u001b[1;32m   (...)\u001b[0m\n\u001b[0;32m     37\u001b[0m ):\n\u001b[0;32m     38\u001b[0m     \u001b[38;5;66;03m# Use the xlwt module as the Excel writer.\u001b[39;00m\n\u001b[1;32m---> 39\u001b[0m     \u001b[38;5;28;01mimport\u001b[39;00m \u001b[38;5;21;01mxlwt\u001b[39;00m\n\u001b[0;32m     41\u001b[0m     engine_kwargs \u001b[38;5;241m=\u001b[39m combine_kwargs(engine_kwargs, kwargs)\n\u001b[0;32m     43\u001b[0m     \u001b[38;5;28;01mif\u001b[39;00m mode \u001b[38;5;241m==\u001b[39m \u001b[38;5;124m\"\u001b[39m\u001b[38;5;124ma\u001b[39m\u001b[38;5;124m\"\u001b[39m:\n",
      "\u001b[1;31mModuleNotFoundError\u001b[0m: No module named 'xlwt'"
     ]
    }
   ],
   "source": [
    "\n"
   ]
  },
  {
   "cell_type": "code",
   "execution_count": 50,
   "id": "cbabeec7",
   "metadata": {},
   "outputs": [],
   "source": [
    "df.to_excel('df.xls', index=False)\n"
   ]
  },
  {
   "cell_type": "code",
   "execution_count": 49,
   "id": "74fa05a6",
   "metadata": {},
   "outputs": [
    {
     "name": "stdout",
     "output_type": "stream",
     "text": [
      "Collecting xlwt\n",
      "  Downloading xlwt-1.3.0-py2.py3-none-any.whl (99 kB)\n",
      "Installing collected packages: xlwt\n",
      "Successfully installed xlwt-1.3.0\n",
      "Note: you may need to restart the kernel to use updated packages.\n"
     ]
    }
   ],
   "source": []
  },
  {
   "cell_type": "code",
   "execution_count": null,
   "id": "75a2a3cf",
   "metadata": {},
   "outputs": [],
   "source": []
  }
 ],
 "metadata": {
  "kernelspec": {
   "display_name": "Python 3 (ipykernel)",
   "language": "python",
   "name": "python3"
  },
  "language_info": {
   "codemirror_mode": {
    "name": "ipython",
    "version": 3
   },
   "file_extension": ".py",
   "mimetype": "text/x-python",
   "name": "python",
   "nbconvert_exporter": "python",
   "pygments_lexer": "ipython3",
   "version": "3.9.12"
  }
 },
 "nbformat": 4,
 "nbformat_minor": 5
}
